{
  "nbformat": 4,
  "nbformat_minor": 0,
  "metadata": {
    "colab": {
      "provenance": [],
      "authorship_tag": "ABX9TyNoHvr8/ytkxG7Z5K+JZNwN",
      "include_colab_link": true
    },
    "kernelspec": {
      "name": "python3",
      "display_name": "Python 3"
    },
    "language_info": {
      "name": "python"
    }
  },
  "cells": [
    {
      "cell_type": "markdown",
      "metadata": {
        "id": "view-in-github",
        "colab_type": "text"
      },
      "source": [
        "<a href=\"https://colab.research.google.com/github/ConradRe/BTE320/blob/main/In_Class_Assignment.ipynb\" target=\"_parent\"><img src=\"https://colab.research.google.com/assets/colab-badge.svg\" alt=\"Open In Colab\"/></a>"
      ]
    },
    {
      "cell_type": "code",
      "execution_count": 47,
      "metadata": {
        "colab": {
          "base_uri": "https://localhost:8080/"
        },
        "id": "xNC6qyW1kKdj",
        "outputId": "fcf13ea3-6d67-44ab-fb2f-fcc5064be345"
      },
      "outputs": [
        {
          "output_type": "stream",
          "name": "stdout",
          "text": [
            "244.92000000000002\n"
          ]
        }
      ],
      "source": [
        "pi = 3.14\n",
        "r = 3\n",
        "h = 10\n",
        "\n",
        "Area = (2 * pi * r **2)+(2 * pi * r * h)\n",
        "\n",
        "print(Area)"
      ]
    },
    {
      "cell_type": "code",
      "source": [
        "import random\n",
        "play = input(\"Do you want to play? (yes/no)\")\n",
        "while play == 'yes':\n",
        "\n",
        "  p1 = input(\"rock, paper, scissors: \")\n",
        "  p2 = random.choice(['rock', 'paper', 'scissors'])\n",
        "\n",
        "\n",
        "  if p1 == 'rock' and p2 == 'scissors':\n",
        "    print(\"Player wins\")\n",
        "  elif p1 == 'rock' and p2 == 'paper':\n",
        "    print(\"Computer wins\")\n",
        "  elif p1 == 'paper' and p2 == 'rock':\n",
        "    print(\"Player wins\")\n",
        "  elif p1 == 'paper' and p2 == 'scissors':\n",
        "    print(\"Computer wins\")\n",
        "  elif p1 == 'scissors' and p2 == 'rock':\n",
        "    print(\"Computer wins\")\n",
        "  elif p1 == 'scissors' and p2 == 'paper':\n",
        "    print(\"Player wins\")\n",
        "  else:\n",
        "    print(\"Tie\")\n",
        "  play = input(\"Do you want to play? (yes/no)\")\n",
        "  print('Have a nice day!')"
      ],
      "metadata": {
        "colab": {
          "base_uri": "https://localhost:8080/"
        },
        "id": "UvDJ9ddeRPVX",
        "outputId": "1222e531-494a-4fe8-86d2-902f60c901c1"
      },
      "execution_count": 13,
      "outputs": [
        {
          "output_type": "stream",
          "name": "stdout",
          "text": [
            "Do you want to play? (yes/no)yes\n",
            "rock, paper, scissors: rock\n",
            "Player wins\n",
            "Do you want to play? (yes/no)yes\n",
            "Have a nice day!\n",
            "rock, paper, scissors: paper\n",
            "Computer wins\n",
            "Do you want to play? (yes/no)yes\n",
            "Have a nice day!\n",
            "rock, paper, scissors: scissors\n",
            "Computer wins\n",
            "Do you want to play? (yes/no)no\n",
            "Have a nice day!\n"
          ]
        }
      ]
    },
    {
      "cell_type": "code",
      "source": [
        "n1 = float(input(\"Enter a number: \"))\n",
        "symbol = input(\"Enter a symbol: \")\n",
        "n2 = float(input(\"Enter a number: \"))\n",
        "if symbol == '+':\n",
        "  print(n1 + n2)\n",
        "elif symbol == '-':\n",
        "  print(n1 - n2)\n",
        "elif symbol == '*':\n",
        "  print(n1 * n2)\n",
        "elif symbol == '/':\n",
        "  print(n1 / n2)\n",
        "else:\n",
        "  print(n1 ** n2)"
      ],
      "metadata": {
        "colab": {
          "base_uri": "https://localhost:8080/"
        },
        "id": "wfUs2us95gkS",
        "outputId": "8ec6f801-b417-4d95-c0a9-fef6e16c6197"
      },
      "execution_count": 4,
      "outputs": [
        {
          "output_type": "stream",
          "name": "stdout",
          "text": [
            "Enter a number: 2\n",
            "Enter a symbol: **\n",
            "Enter a number: 8\n",
            "256.0\n"
          ]
        }
      ]
    },
    {
      "cell_type": "code",
      "source": [
        "flat = 5\n",
        "hourly = 2.5\n",
        "min = 10\n",
        "max = 20\n",
        "\n",
        "for i in range (1,9):\n",
        "  rate = flat + (i * hourly)\n",
        "  if rate < 10:\n",
        "    print(i, min)\n",
        "  elif rate > 20:\n",
        "    print(i, max)\n",
        "  else:\n",
        "    print(i, rate)\n"
      ],
      "metadata": {
        "colab": {
          "base_uri": "https://localhost:8080/"
        },
        "id": "EGCA9KHVAe9C",
        "outputId": "499821c7-8626-400b-e6e9-2fea45117d76"
      },
      "execution_count": null,
      "outputs": [
        {
          "output_type": "stream",
          "name": "stdout",
          "text": [
            "1 10\n",
            "2 10.0\n",
            "3 12.5\n",
            "4 15.0\n",
            "5 17.5\n",
            "6 20.0\n",
            "7 20\n",
            "8 20\n"
          ]
        }
      ]
    },
    {
      "cell_type": "code",
      "source": [
        "for ad in range(0,201,25):\n",
        "  ticketprice = 10\n",
        "  attendNOAD = 20\n",
        "  fixed = 200\n",
        "  optimalspend = 0\n",
        "  maxprofit = 0\n",
        "  tickets = 20 + 2 * round(ad**.5)\n",
        "\n",
        "  profit = tickets * ticketprice - ad - fixed\n",
        "  print(ad, profit)"
      ],
      "metadata": {
        "colab": {
          "base_uri": "https://localhost:8080/"
        },
        "id": "wb2vzDHdE43-",
        "outputId": "21ceb11d-f421-4bf1-fcad-9ae7ff72fb28"
      },
      "execution_count": 40,
      "outputs": [
        {
          "output_type": "stream",
          "name": "stdout",
          "text": [
            "0 0\n",
            "25 75\n",
            "50 90\n",
            "75 105\n",
            "100 100\n",
            "125 95\n",
            "150 90\n",
            "175 85\n",
            "200 80\n"
          ]
        }
      ]
    },
    {
      "cell_type": "code",
      "source": [
        "months = {}\n",
        "names = [\"Jan\", \"Feb\", \"Mar\", \"Apr\", \"May\", \"Jun\", \"Jul\", \"Aug\", \"Sep\", \"Oct\", \"Nov\", \"Dec\"]\n",
        "numbers = [1, 2, 3, 4, 5, 6, 7, 8, 9, 10, 11, 12]\n",
        "\n",
        "for i in range(len(numbers)):\n",
        "  months[numbers[i]] = names[i]\n",
        "\n",
        "print(months)"
      ],
      "metadata": {
        "colab": {
          "base_uri": "https://localhost:8080/"
        },
        "id": "9x-0ZQjF-4iw",
        "outputId": "abf44c35-3d68-40ed-a80a-e87cd99e45c8"
      },
      "execution_count": 50,
      "outputs": [
        {
          "output_type": "stream",
          "name": "stdout",
          "text": [
            "{1: 'Jan', 2: 'Feb', 3: 'Mar', 4: 'Apr', 5: 'May', 6: 'Jun', 7: 'Jul', 8: 'Aug', 9: 'Sep', 10: 'Oct', 11: 'Nov', 12: 'Dec'}\n"
          ]
        }
      ]
    },
    {
      "cell_type": "code",
      "source": [
        "def calcFee(hours, decimals=2):\n",
        "  fee = 5 + hours * 2.5\n",
        "  fee = round(fee, decimals)\n",
        "  return fee\n",
        "\n",
        "def displayFee(fee):\n",
        "  print(fee)\n",
        "\n",
        "h = int(input('Enter number of hours: '))\n",
        "fee = calcFee(h)\n",
        "def displayFee(fee):\n",
        "  print(fee)\n",
        "fee = displayFee(fee)"
      ],
      "metadata": {
        "colab": {
          "base_uri": "https://localhost:8080/"
        },
        "id": "FtNTGYQBDk69",
        "outputId": "d0377bc1-f0a7-46e1-b49b-6cba634d7afe"
      },
      "execution_count": 24,
      "outputs": [
        {
          "output_type": "stream",
          "name": "stdout",
          "text": [
            "Enter number of hours: 3\n",
            "12.5\n"
          ]
        }
      ]
    },
    {
      "cell_type": "code",
      "source": [
        "l = []\n",
        "\n",
        "item = int(input(\"Give value: \"))\n",
        "\n",
        "while item != 0:\n",
        "  l.append(item)\n",
        "  item = int(input(\"Give value: \"))\n",
        "\n",
        "print(l)"
      ],
      "metadata": {
        "colab": {
          "base_uri": "https://localhost:8080/"
        },
        "id": "Kz8tDoT3VMBJ",
        "outputId": "93e77907-db40-4d5c-a894-b862b1b77bc5"
      },
      "execution_count": 43,
      "outputs": [
        {
          "output_type": "stream",
          "name": "stdout",
          "text": [
            "Give value: 1\n",
            "Give value: 2\n",
            "Give value: 3\n",
            "Give value: 4\n",
            "Give value: 5\n",
            "Give value: 6\n",
            "Give value: 0\n",
            "[1, 2, 3, 4, 5, 6]\n"
          ]
        }
      ]
    },
    {
      "cell_type": "code",
      "source": [
        "def reverse(s):\n",
        "  if len(s) == 1:\n",
        "    return(s)\n",
        "  else:\n",
        "   return s[-1] + reverse(s[1:-1]) + s[0]\n",
        "\n",
        "reverse('Hello')"
      ],
      "metadata": {
        "colab": {
          "base_uri": "https://localhost:8080/",
          "height": 35
        },
        "id": "iTQJ0HBoIF0I",
        "outputId": "c0b4c055-abc3-4496-d3d2-82e71de5e72c"
      },
      "execution_count": 44,
      "outputs": [
        {
          "output_type": "execute_result",
          "data": {
            "text/plain": [
              "'olleH'"
            ],
            "application/vnd.google.colaboratory.intrinsic+json": {
              "type": "string"
            }
          },
          "metadata": {},
          "execution_count": 44
        }
      ]
    },
    {
      "cell_type": "code",
      "source": [
        "class Student:\n",
        "  def __init__(self, name, number,):\n",
        "    self.__name = name\n",
        "    self.number = number\n",
        "    self.__courses = []\n",
        "\n",
        "  def enroll(self, course):\n",
        "    if course not in self.__courses:\n",
        "      self.__courses.append(course)\n",
        "    else:\n",
        "      print(f'Already enrolled in {course}')\n",
        "\n",
        "  def get_courses(self):\n",
        "    return self.__courses\n",
        "\n",
        "class GradStudent(Student):\n",
        "  def __init__(self, name, number, stipend):\n",
        "    super().__init__(name, number)\n",
        "    self.stipend = stipend\n",
        "  def set_stipend(self, newStipend):\n",
        "    self.stipend = newStipend\n",
        "  def get_stipend(self):\n",
        "    return self.stipend"
      ],
      "metadata": {
        "id": "Dy4K-bWwYifl"
      },
      "execution_count": 26,
      "outputs": []
    },
    {
      "cell_type": "code",
      "source": [
        "s1 = Student(\"James Bond\", \"007\")\n",
        "s2 = Student(\"Clark Kent\", \"333\")"
      ],
      "metadata": {
        "id": "aP5UrBayad6X"
      },
      "execution_count": 27,
      "outputs": []
    },
    {
      "cell_type": "code",
      "source": [
        "s1.enroll(\"Science\")"
      ],
      "metadata": {
        "id": "uSkWj4M7qH2Z"
      },
      "execution_count": 28,
      "outputs": []
    },
    {
      "cell_type": "code",
      "source": [
        "s1.get_courses()"
      ],
      "metadata": {
        "colab": {
          "base_uri": "https://localhost:8080/"
        },
        "id": "rA1TJkYbuT4a",
        "outputId": "f0b9b1d9-703b-41ca-af50-777d878a9369"
      },
      "execution_count": 29,
      "outputs": [
        {
          "output_type": "execute_result",
          "data": {
            "text/plain": [
              "['Science']"
            ]
          },
          "metadata": {},
          "execution_count": 29
        }
      ]
    },
    {
      "cell_type": "code",
      "source": [
        "s2.enroll(\"History\")"
      ],
      "metadata": {
        "id": "oaBLEbHkuwHk"
      },
      "execution_count": 30,
      "outputs": []
    },
    {
      "cell_type": "code",
      "source": [
        "s2.get_courses()"
      ],
      "metadata": {
        "colab": {
          "base_uri": "https://localhost:8080/"
        },
        "id": "59Ncyp1ZuzOZ",
        "outputId": "1918aadb-74c6-4e34-86b8-a239585a9603"
      },
      "execution_count": 31,
      "outputs": [
        {
          "output_type": "execute_result",
          "data": {
            "text/plain": [
              "['History']"
            ]
          },
          "metadata": {},
          "execution_count": 31
        }
      ]
    }
  ]
}