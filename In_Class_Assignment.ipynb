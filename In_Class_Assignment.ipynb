{
  "nbformat": 4,
  "nbformat_minor": 0,
  "metadata": {
    "colab": {
      "provenance": [],
      "authorship_tag": "ABX9TyO0JFjDn61LlE7NkLpxaj4X",
      "include_colab_link": true
    },
    "kernelspec": {
      "name": "python3",
      "display_name": "Python 3"
    },
    "language_info": {
      "name": "python"
    }
  },
  "cells": [
    {
      "cell_type": "markdown",
      "metadata": {
        "id": "view-in-github",
        "colab_type": "text"
      },
      "source": [
        "<a href=\"https://colab.research.google.com/github/ConradRe/BTE320/blob/main/In_Class_Assignment.ipynb\" target=\"_parent\"><img src=\"https://colab.research.google.com/assets/colab-badge.svg\" alt=\"Open In Colab\"/></a>"
      ]
    },
    {
      "cell_type": "markdown",
      "source": [
        "Display surface area of cylinder with height 10 and radius 3"
      ],
      "metadata": {
        "id": "KYRUfMz1kUYD"
      }
    },
    {
      "cell_type": "code",
      "execution_count": null,
      "metadata": {
        "colab": {
          "base_uri": "https://localhost:8080/"
        },
        "id": "xNC6qyW1kKdj",
        "outputId": "fe0f2694-c189-4ce4-c74c-9db497a5ff4d"
      },
      "outputs": [
        {
          "output_type": "stream",
          "name": "stdout",
          "text": [
            "244.92000000000002\n"
          ]
        }
      ],
      "source": [
        "# Calculate surface area cylinder\n",
        "h = 10 # height\n",
        "r = 3 # radius\n",
        "pi = 3.14 # pi\n",
        "\n",
        "# Calculate area\n",
        "Area = (2 * pi * r ** 2) + (2 * pi * r * h)\n",
        "# Display result on screen\n",
        "print(Area)"
      ]
    },
    {
      "cell_type": "code",
      "source": [
        "type(r)"
      ],
      "metadata": {
        "colab": {
          "base_uri": "https://localhost:8080/"
        },
        "id": "KM3G1WyMoklR",
        "outputId": "9476e6f5-1b4d-4185-d015-71bc623c52c8"
      },
      "execution_count": null,
      "outputs": [
        {
          "output_type": "execute_result",
          "data": {
            "text/plain": [
              "int"
            ]
          },
          "metadata": {},
          "execution_count": 4
        }
      ]
    },
    {
      "cell_type": "markdown",
      "source": [
        "Rock, Paper, Scissors"
      ],
      "metadata": {
        "id": "Cn4QSmK5siTq"
      }
    },
    {
      "cell_type": "code",
      "source": [
        "p1 = input(\"rock, paper, scissors: \")\n",
        "p2 = input(\"rock, paper, scissors:\")\n",
        "if p1 == p2:\n",
        "  print: (\"Tie\")\n",
        "if p1 == 'rock' and p2 == 'scissors':\n",
        "  print(\"Player 1 wins\")\n",
        "if p1 == 'rock' and p2 == 'paper':\n",
        "  print(\"Player 2 wins\")\n",
        "if p1 == 'paper' and p2 == 'rock':\n",
        "  print(\"Player 1 wins\")\n",
        "if p1 == 'paper' and p2 == 'scissors':\n",
        "  print(\"Player 2 wins\")\n",
        "if p1 == 'scissors' and p2 == 'rock':\n",
        "  print(\"Player 2 wins\")\n",
        "if p1 == 'scissors' and p2 == 'paper':\n",
        "  print(\"Player 1 wins\")"
      ],
      "metadata": {
        "colab": {
          "base_uri": "https://localhost:8080/"
        },
        "id": "Vt1awubSske7",
        "outputId": "9d687aa6-95ae-4808-842d-f68b9362c1a9"
      },
      "execution_count": null,
      "outputs": [
        {
          "output_type": "stream",
          "name": "stdout",
          "text": [
            "rock, paper, scissors: rock\n",
            "rock, paper, scissors:scissors\n",
            "Player 1 wins\n"
          ]
        }
      ]
    },
    {
      "cell_type": "code",
      "source": [
        "p1 = input(\"Player 1: rock, paper, scissors: \")\n",
        "p2 = input(\"Player 2: rock, paper, scissors: \")\n",
        "if p1 == p2:\n",
        "  print: (\"Tie\")\n",
        "elif (\n",
        "    (p1=='rock' and p2=='scissors') or\n",
        "    (p1=='paper' and p2=='rock') or\n",
        "    (p1=='scissors' and p2=='paper')\n",
        "):\n",
        "  print(\"Player 1 wins\")\n",
        "else:\n",
        "  print(\"Player 2 wins\")"
      ],
      "metadata": {
        "colab": {
          "base_uri": "https://localhost:8080/"
        },
        "id": "29itB_GqyVu6",
        "outputId": "a35f3749-c0a8-461b-bfe1-9f4a2daddb15"
      },
      "execution_count": null,
      "outputs": [
        {
          "output_type": "stream",
          "name": "stdout",
          "text": [
            "Player 1: rock, paper, scissors: paper\n",
            "Player 2: rock, paper, scissors: scissors\n",
            "Player 2 wins\n"
          ]
        }
      ]
    },
    {
      "cell_type": "markdown",
      "source": [
        "9/11:\n"
      ],
      "metadata": {
        "id": "jt2YDSC35fS2"
      }
    },
    {
      "cell_type": "code",
      "source": [
        "n1 = float(input(\"Enter a number: \"))\n",
        "symbol = input(\"Enter a symbol: \")\n",
        "n2 = float(input(\"Enter a number: \"))\n",
        "if symbol == '+':\n",
        "  print(n1 + n2)\n",
        "elif symbol == '-':\n",
        "  print(n1 - n2)\n",
        "elif symbol == '*':\n",
        "  print(n1 * n2)\n",
        "elif symbol == '/':\n",
        "  print(n1 / n2)\n",
        "else:\n",
        "  print(n1 ** n2)"
      ],
      "metadata": {
        "colab": {
          "base_uri": "https://localhost:8080/"
        },
        "id": "wfUs2us95gkS",
        "outputId": "91e606fb-dca3-4df8-88e6-c28901a1be58"
      },
      "execution_count": null,
      "outputs": [
        {
          "output_type": "stream",
          "name": "stdout",
          "text": [
            "Enter a number: 6\n",
            "Enter a symbol: **\n",
            "Enter a number: 3\n",
            "216\n"
          ]
        }
      ]
    },
    {
      "cell_type": "code",
      "source": [
        "play = input(\"Do you want to play? (yes/no)\")\n",
        "while play == 'yes':\n",
        "\n",
        "  p1 = input(\"rock, paper, scissors: \")\n",
        "  p2 = input(\"rock, paper, scissors:\")\n",
        "\n",
        "\n",
        "  if p1 == 'rock' and p2 == 'scissors':\n",
        "    print(\"Player 1 wins\")\n",
        "  elif p1 == 'rock' and p2 == 'paper':\n",
        "    print(\"Player 2 wins\")\n",
        "  elif p1 == 'paper' and p2 == 'rock':\n",
        "    print(\"Player 1 wins\")\n",
        "  elif p1 == 'paper' and p2 == 'scissors':\n",
        "    print(\"Player 2 wins\")\n",
        "  elif p1 == 'scissors' and p2 == 'rock':\n",
        "    print(\"Player 2 wins\")\n",
        "  elif p1 == 'scissors' and p2 == 'paper':\n",
        "    print(\"Player 1 wins\")\n",
        "  else:\n",
        "    print(\"Tie\")\n",
        "  play = input(\"Do you want to play? (yes/no)\")\n"
      ],
      "metadata": {
        "colab": {
          "base_uri": "https://localhost:8080/"
        },
        "id": "-M89KCLGy2Nd",
        "outputId": "d5bbd3c3-1065-4c97-faf6-b3bac41d0f6e"
      },
      "execution_count": null,
      "outputs": [
        {
          "name": "stdout",
          "output_type": "stream",
          "text": [
            "Do you want to play? (yes/no)yes\n",
            "rock, paper, scissors: rock\n",
            "rock, paper, scissors:scissors\n",
            "Player 1 wins\n",
            "Do you want to play? (yes/no)yes\n",
            "rock, paper, scissors: scissors\n",
            "rock, paper, scissors:scissors\n",
            "Tie\n",
            "Do you want to play? (yes/no)yes\n",
            "rock, paper, scissors: paper\n",
            "rock, paper, scissors:scissors\n",
            "Player 2 wins\n",
            "Do you want to play? (yes/no)no\n"
          ]
        }
      ]
    },
    {
      "cell_type": "code",
      "source": [
        "import random\n",
        "play = input(\"Do you want to play? (yes/no)\")\n",
        "while play == 'yes':\n",
        "\n",
        "  p1 = input(\"rock, paper, scissors: \")\n",
        "  p2 = random.choice(['rock', 'paper', 'scissors'])\n",
        "\n",
        "\n",
        "  if p1 == 'rock' and p2 == 'scissors':\n",
        "    print(\"Player wins\")\n",
        "  elif p1 == 'rock' and p2 == 'paper':\n",
        "    print(\"Computer wins\")\n",
        "  elif p1 == 'paper' and p2 == 'rock':\n",
        "    print(\"Player wins\")\n",
        "  elif p1 == 'paper' and p2 == 'scissors':\n",
        "    print(\"Computer wins\")\n",
        "  elif p1 == 'scissors' and p2 == 'rock':\n",
        "    print(\"Computer wins\")\n",
        "  elif p1 == 'scissors' and p2 == 'paper':\n",
        "    print(\"Player wins\")\n",
        "  else:\n",
        "    print(\"Tie\")\n",
        "  play = input(\"Do you want to play? (yes/no)\")\n",
        "print('Have a nice day!')"
      ],
      "metadata": {
        "colab": {
          "base_uri": "https://localhost:8080/"
        },
        "id": "ZqhbZP6M0eJt",
        "outputId": "094b232d-8228-4cd1-b8d3-6f405236fd2f"
      },
      "execution_count": null,
      "outputs": [
        {
          "output_type": "stream",
          "name": "stdout",
          "text": [
            "Do you want to play? (yes/no)yes\n",
            "rock, paper, scissors: rock\n",
            "Player wins\n",
            "Do you want to play? (yes/no)yes\n",
            "rock, paper, scissors: scissors\n",
            "Tie\n",
            "Do you want to play? (yes/no)no\n",
            "Have a nice day!\n"
          ]
        }
      ]
    },
    {
      "cell_type": "markdown",
      "source": [
        "9/18:"
      ],
      "metadata": {
        "id": "_jj8zR4F-xIB"
      }
    },
    {
      "cell_type": "code",
      "source": [
        "flat = 5\n",
        "hourly = 2.5\n",
        "min = 10\n",
        "max = 20\n",
        "\n",
        "for i in range (1,9):\n",
        "  rate = flat + (i * hourly)\n",
        "  if rate < 10:\n",
        "    print(i, min)\n",
        "  elif rate > 20:\n",
        "    print(i, max)\n",
        "  else:\n",
        "    print(i, rate)\n"
      ],
      "metadata": {
        "colab": {
          "base_uri": "https://localhost:8080/"
        },
        "id": "EGCA9KHVAe9C",
        "outputId": "499821c7-8626-400b-e6e9-2fea45117d76"
      },
      "execution_count": null,
      "outputs": [
        {
          "output_type": "stream",
          "name": "stdout",
          "text": [
            "1 10\n",
            "2 10.0\n",
            "3 12.5\n",
            "4 15.0\n",
            "5 17.5\n",
            "6 20.0\n",
            "7 20\n",
            "8 20\n"
          ]
        }
      ]
    },
    {
      "cell_type": "code",
      "source": [
        "for ad in range(0,201,25):\n",
        "  ticketprice = 10\n",
        "  attendNOAD = 20\n",
        "  fixed = 200\n",
        "  tickets = 20 + 2 * round(ad**.5)\n",
        "\n",
        "  profit = tickets * ticketprice - ad - fixed\n",
        "  print(ad, profit)\n"
      ],
      "metadata": {
        "colab": {
          "base_uri": "https://localhost:8080/"
        },
        "id": "wb2vzDHdE43-",
        "outputId": "31028a08-e766-45c0-b4e5-0305a75a55b7"
      },
      "execution_count": null,
      "outputs": [
        {
          "output_type": "stream",
          "name": "stdout",
          "text": [
            "0 0\n",
            "25 75\n",
            "50 90\n",
            "75 105\n",
            "100 100\n",
            "125 95\n",
            "150 90\n",
            "175 85\n",
            "200 80\n"
          ]
        }
      ]
    },
    {
      "cell_type": "markdown",
      "source": [
        "9/25:"
      ],
      "metadata": {
        "id": "o6pqwoU9I-7U"
      }
    },
    {
      "cell_type": "code",
      "source": [
        "L = []\n",
        "\n",
        "item = int(input('Give a value: '))\n",
        "while item != 0:\n",
        "  L.append(item)\n",
        "  item = int(input('Give a value: '))\n",
        "\n",
        "print(L)"
      ],
      "metadata": {
        "colab": {
          "base_uri": "https://localhost:8080/"
        },
        "id": "GhfqMpH2JAQA",
        "outputId": "5355a5ba-61e6-43ee-fe68-41c391cbf49e"
      },
      "execution_count": null,
      "outputs": [
        {
          "output_type": "stream",
          "name": "stdout",
          "text": [
            "Give a value: 3\n",
            "Give a value: 4\n",
            "Give a value: 5\n",
            "Give a value: 6\n",
            "Give a value: 0\n",
            "[3, 4, 5, 6]\n"
          ]
        }
      ]
    },
    {
      "cell_type": "markdown",
      "source": [
        "9/30:"
      ],
      "metadata": {
        "id": "pTwBxtun-3p-"
      }
    },
    {
      "cell_type": "code",
      "source": [
        "months = {}\n",
        "names = [\"Jan\", \"Feb\", \"Mar\", \"Apr\", \"May\", \"Jun\", \"Jul\", \"Aug\", \"Sep\", \"Oct\", \"Nov\", \"Dec\"]\n",
        "numbers = [1, 2, 3, 4, 5, 6, 7, 8, 9, 10, 11, 12]\n",
        "\n",
        "for i in range(len(numbers)):\n",
        "  months[numbers[i]] = names[i]\n",
        "\n",
        "print(months)"
      ],
      "metadata": {
        "colab": {
          "base_uri": "https://localhost:8080/"
        },
        "id": "9x-0ZQjF-4iw",
        "outputId": "74c8431b-aa61-4b78-b1f5-f0e7e5aa9964"
      },
      "execution_count": null,
      "outputs": [
        {
          "output_type": "stream",
          "name": "stdout",
          "text": [
            "{1: 'Jan', 2: 'Feb', 3: 'Mar', 4: 'Apr', 5: 'May', 6: 'Jun', 7: 'Jul', 8: 'Aug', 9: 'Sep', 10: 'Oct', 11: 'Nov', 12: 'Dec'}\n"
          ]
        }
      ]
    },
    {
      "cell_type": "code",
      "source": [
        "annual_salary = float(input('Enter annual salary: '))\n",
        "portion = float(input('Enter portion saved: '))\n",
        "total_cost = float(input('Enter cost of house: '))\n",
        "\n",
        "current_savings = 0\n",
        "months = 0\n",
        "\n",
        "while...:\n",
        "  expr1"
      ],
      "metadata": {
        "colab": {
          "base_uri": "https://localhost:8080/",
          "height": 233
        },
        "id": "U86qxW8eXBtg",
        "outputId": "b166d129-00d6-4f08-d845-414f20497621"
      },
      "execution_count": null,
      "outputs": [
        {
          "name": "stdout",
          "output_type": "stream",
          "text": [
            "Enter annual salary: 90000\n",
            "Enter portion saved: 35\n",
            "Enter cost of house: 1000000\n"
          ]
        },
        {
          "output_type": "error",
          "ename": "NameError",
          "evalue": "name 'expr1' is not defined",
          "traceback": [
            "\u001b[0;31m---------------------------------------------------------------------------\u001b[0m",
            "\u001b[0;31mNameError\u001b[0m                                 Traceback (most recent call last)",
            "\u001b[0;32m<ipython-input-2-c41494f1205b>\u001b[0m in \u001b[0;36m<cell line: 8>\u001b[0;34m()\u001b[0m\n\u001b[1;32m      7\u001b[0m \u001b[0;34m\u001b[0m\u001b[0m\n\u001b[1;32m      8\u001b[0m \u001b[0;32mwhile\u001b[0m\u001b[0;34m...\u001b[0m\u001b[0;34m:\u001b[0m\u001b[0;34m\u001b[0m\u001b[0;34m\u001b[0m\u001b[0m\n\u001b[0;32m----> 9\u001b[0;31m   \u001b[0mexpr1\u001b[0m\u001b[0;34m\u001b[0m\u001b[0;34m\u001b[0m\u001b[0m\n\u001b[0m",
            "\u001b[0;31mNameError\u001b[0m: name 'expr1' is not defined"
          ]
        }
      ]
    },
    {
      "cell_type": "code",
      "source": [
        "def calcFee(hours):\n",
        "  fee = 5 + hours * 2.5\n",
        "  return fee\n",
        "\n",
        "h = int(input('Enter number of hours: '))\n",
        "fee = calcFee(h)\n",
        "print(fee)\n",
        "\n",
        "\n",
        "\n",
        "\n"
      ],
      "metadata": {
        "colab": {
          "base_uri": "https://localhost:8080/"
        },
        "id": "ISZKhlfY-SUH",
        "outputId": "2b501ffe-9dfa-4e0d-ad6f-4ff6b819e5b7"
      },
      "execution_count": null,
      "outputs": [
        {
          "output_type": "stream",
          "name": "stdout",
          "text": [
            "Enter number of hours: 4\n",
            "15.0\n"
          ]
        }
      ]
    },
    {
      "cell_type": "code",
      "source": [
        "def calcFee(hours):\n",
        "  fee = 5 + hours * 2.5\n",
        "  return fee\n",
        "\n",
        "def displayFee(fee):\n",
        "  print(fee)\n",
        "\n",
        "h = int(input('Enter number of hours: '))\n",
        "fee = calcFee(h)\n",
        "print(fee)\n",
        "\n"
      ],
      "metadata": {
        "colab": {
          "base_uri": "https://localhost:8080/"
        },
        "id": "BkdaT-3CDC-2",
        "outputId": "b4228e10-739d-4cef-b387-a24c055381d6"
      },
      "execution_count": null,
      "outputs": [
        {
          "output_type": "stream",
          "name": "stdout",
          "text": [
            "Enter number of hours: 4\n",
            "15.0\n"
          ]
        }
      ]
    },
    {
      "cell_type": "code",
      "source": [
        "def calcFee(hours, decimals=2):\n",
        "  fee = 5 + hours * 2.5\n",
        "  fee = round(fee, decimals)\n",
        "  return fee\n",
        "\n",
        "def displayFee(fee):\n",
        "  print(fee)\n",
        "\n",
        "h = int(input('Enter number of hours: '))\n",
        "fee = calcFee(h)\n",
        "def displayFee(fee):\n",
        "  print(fee)\n",
        "fee = displayFee(fee)"
      ],
      "metadata": {
        "colab": {
          "base_uri": "https://localhost:8080/"
        },
        "id": "FtNTGYQBDk69",
        "outputId": "346852c2-e7b4-4e26-996f-780bba8d11a9"
      },
      "execution_count": null,
      "outputs": [
        {
          "output_type": "stream",
          "name": "stdout",
          "text": [
            "Enter number of hours: 3\n",
            "12.5\n"
          ]
        }
      ]
    },
    {
      "cell_type": "markdown",
      "source": [
        "10/28:"
      ],
      "metadata": {
        "id": "4WhWVlxzIEux"
      }
    },
    {
      "cell_type": "code",
      "source": [
        "def reverse(s):\n",
        "  if len(s) == 1:\n",
        "    return(s)\n",
        "  else:\n",
        "   return s[-1] + reverse(s[1:-1]) + s[0]\n",
        "\n",
        "reverse('Hello')"
      ],
      "metadata": {
        "colab": {
          "base_uri": "https://localhost:8080/",
          "height": 35
        },
        "id": "iTQJ0HBoIF0I",
        "outputId": "22b3767d-785a-4348-cfdb-f660ecee6bc1"
      },
      "execution_count": null,
      "outputs": [
        {
          "output_type": "execute_result",
          "data": {
            "text/plain": [
              "'olleH'"
            ],
            "application/vnd.google.colaboratory.intrinsic+json": {
              "type": "string"
            }
          },
          "metadata": {},
          "execution_count": 27
        }
      ]
    },
    {
      "cell_type": "markdown",
      "source": [
        "11/6:"
      ],
      "metadata": {
        "id": "dpX2XMsWixca"
      }
    },
    {
      "cell_type": "code",
      "source": [
        "def wAvg(L, w):\n",
        "  try:\n",
        "    res = []\n",
        "    for i in range(len(L)):\n",
        "     res.append(w[i] * L[i])\n",
        "    return sum(res) / sum(w)\n",
        "  except ZeroDivisionError:\n",
        "    print('Divded by zero')\n",
        "    return None\n",
        "  except TypeError:\n",
        "    print('Non-numerical objects found')\n",
        "    return None\n",
        "  except Exception as e:\n",
        "    print(f'Unknown error: {e}')\n",
        "    return float('nan')\n",
        "wAvg([1, 2, 3], [.2, 0, -.2])\n",
        "\n",
        "\n"
      ],
      "metadata": {
        "id": "3r672G70JH8n",
        "colab": {
          "base_uri": "https://localhost:8080/"
        },
        "outputId": "f17705ce-a4c3-467f-dc84-c5245f36aba4"
      },
      "execution_count": null,
      "outputs": [
        {
          "output_type": "stream",
          "name": "stdout",
          "text": [
            "Divded by zero\n"
          ]
        }
      ]
    },
    {
      "cell_type": "markdown",
      "source": [
        "11/11:"
      ],
      "metadata": {
        "id": "nmrEcurGYhQt"
      }
    },
    {
      "cell_type": "code",
      "source": [
        "class Student:\n",
        "  def __init__(self, name, number):\n",
        "    self.name = name\n",
        "    self.number = number\n",
        "  def __str__(self):\n",
        "    return f'Name: {self.name}'"
      ],
      "metadata": {
        "id": "Dy4K-bWwYifl"
      },
      "execution_count": 11,
      "outputs": []
    },
    {
      "cell_type": "code",
      "source": [
        "s1 = Student(\"James Bond\", \"007\")\n",
        "s2 = Student(\"Clark Kent\", \"333\")\n",
        "\n",
        "print(s1)"
      ],
      "metadata": {
        "colab": {
          "base_uri": "https://localhost:8080/"
        },
        "id": "aP5UrBayad6X",
        "outputId": "0d6e0107-8d15-46db-cfb6-d1a82ba2b8ef"
      },
      "execution_count": 12,
      "outputs": [
        {
          "output_type": "stream",
          "name": "stdout",
          "text": [
            "Name: James Bond\n"
          ]
        }
      ]
    }
  ]
}