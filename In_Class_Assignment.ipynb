{
  "nbformat": 4,
  "nbformat_minor": 0,
  "metadata": {
    "colab": {
      "provenance": [],
      "authorship_tag": "ABX9TyOtRr8YiHpFCKxbh5/f+v4c",
      "include_colab_link": true
    },
    "kernelspec": {
      "name": "python3",
      "display_name": "Python 3"
    },
    "language_info": {
      "name": "python"
    }
  },
  "cells": [
    {
      "cell_type": "markdown",
      "metadata": {
        "id": "view-in-github",
        "colab_type": "text"
      },
      "source": [
        "<a href=\"https://colab.research.google.com/github/ConradRe/BTE320/blob/main/In_Class_Assignment.ipynb\" target=\"_parent\"><img src=\"https://colab.research.google.com/assets/colab-badge.svg\" alt=\"Open In Colab\"/></a>"
      ]
    },
    {
      "cell_type": "markdown",
      "source": [
        "Display surface area of cylinder with height 10 and radius 3"
      ],
      "metadata": {
        "id": "KYRUfMz1kUYD"
      }
    },
    {
      "cell_type": "code",
      "execution_count": null,
      "metadata": {
        "colab": {
          "base_uri": "https://localhost:8080/"
        },
        "id": "xNC6qyW1kKdj",
        "outputId": "fe0f2694-c189-4ce4-c74c-9db497a5ff4d"
      },
      "outputs": [
        {
          "output_type": "stream",
          "name": "stdout",
          "text": [
            "244.92000000000002\n"
          ]
        }
      ],
      "source": [
        "# Calculate surface area cylinder\n",
        "h = 10 # height\n",
        "r = 3 # radius\n",
        "pi = 3.14 # pi\n",
        "\n",
        "# Calculate area\n",
        "Area = (2 * pi * r ** 2) + (2 * pi * r * h)\n",
        "# Display result on screen\n",
        "print(Area)"
      ]
    },
    {
      "cell_type": "code",
      "source": [
        "type(r)"
      ],
      "metadata": {
        "colab": {
          "base_uri": "https://localhost:8080/"
        },
        "id": "KM3G1WyMoklR",
        "outputId": "9476e6f5-1b4d-4185-d015-71bc623c52c8"
      },
      "execution_count": null,
      "outputs": [
        {
          "output_type": "execute_result",
          "data": {
            "text/plain": [
              "int"
            ]
          },
          "metadata": {},
          "execution_count": 4
        }
      ]
    },
    {
      "cell_type": "markdown",
      "source": [
        "Rock, Paper, Scissors"
      ],
      "metadata": {
        "id": "Cn4QSmK5siTq"
      }
    },
    {
      "cell_type": "code",
      "source": [
        "p1 = input(\"rock, paper, scissors: \")\n",
        "p2 = input(\"rock, paper, scissors:\")\n",
        "if p1 == p2:\n",
        "  print: (\"Tie\")\n",
        "if p1 == 'rock' and p2 == 'scissors':\n",
        "  print(\"Player 1 wins\")\n",
        "if p1 == 'rock' and p2 == 'paper':\n",
        "  print(\"Player 2 wins\")\n",
        "if p1 == 'paper' and p2 == 'rock':\n",
        "  print(\"Player 1 wins\")\n",
        "if p1 == 'paper' and p2 == 'scissors':\n",
        "  print(\"Player 2 wins\")\n",
        "if p1 == 'scissors' and p2 == 'rock':\n",
        "  print(\"Player 2 wins\")\n",
        "if p1 == 'scissors' and p2 == 'paper':\n",
        "  print(\"Player 1 wins\")"
      ],
      "metadata": {
        "colab": {
          "base_uri": "https://localhost:8080/"
        },
        "id": "Vt1awubSske7",
        "outputId": "9d687aa6-95ae-4808-842d-f68b9362c1a9"
      },
      "execution_count": null,
      "outputs": [
        {
          "output_type": "stream",
          "name": "stdout",
          "text": [
            "rock, paper, scissors: rock\n",
            "rock, paper, scissors:scissors\n",
            "Player 1 wins\n"
          ]
        }
      ]
    },
    {
      "cell_type": "code",
      "source": [
        "p1 = input(\"Player 1: rock, paper, scissors: \")\n",
        "p2 = input(\"Player 2: rock, paper, scissors: \")\n",
        "if p1 == p2:\n",
        "  print: (\"Tie\")\n",
        "elif (\n",
        "    (p1=='rock' and p2=='scissors') or\n",
        "    (p1=='paper' and p2=='rock') or\n",
        "    (p1=='scissors' and p2=='paper')\n",
        "):\n",
        "  print(\"Player 1 wins\")\n",
        "else:\n",
        "  print(\"Player 2 wins\")"
      ],
      "metadata": {
        "colab": {
          "base_uri": "https://localhost:8080/"
        },
        "id": "29itB_GqyVu6",
        "outputId": "a35f3749-c0a8-461b-bfe1-9f4a2daddb15"
      },
      "execution_count": null,
      "outputs": [
        {
          "output_type": "stream",
          "name": "stdout",
          "text": [
            "Player 1: rock, paper, scissors: paper\n",
            "Player 2: rock, paper, scissors: scissors\n",
            "Player 2 wins\n"
          ]
        }
      ]
    },
    {
      "cell_type": "markdown",
      "source": [
        "9/11:\n"
      ],
      "metadata": {
        "id": "jt2YDSC35fS2"
      }
    },
    {
      "cell_type": "code",
      "source": [
        "n1 = float(input(\"Enter a number: \"))\n",
        "symbol = input(\"Enter a symbol: \")\n",
        "n2 = float(input(\"Enter a number: \"))\n",
        "if symbol == '+':\n",
        "  print(n1 + n2)\n",
        "elif symbol == '-':\n",
        "  print(n1 - n2)\n",
        "elif symbol == '*':\n",
        "  print(n1 * n2)\n",
        "elif symbol == '/':\n",
        "  print(n1 / n2)\n",
        "else:\n",
        "  print(n1 ** n2)"
      ],
      "metadata": {
        "colab": {
          "base_uri": "https://localhost:8080/"
        },
        "id": "wfUs2us95gkS",
        "outputId": "91e606fb-dca3-4df8-88e6-c28901a1be58"
      },
      "execution_count": null,
      "outputs": [
        {
          "output_type": "stream",
          "name": "stdout",
          "text": [
            "Enter a number: 6\n",
            "Enter a symbol: **\n",
            "Enter a number: 3\n",
            "216\n"
          ]
        }
      ]
    },
    {
      "cell_type": "code",
      "source": [
        "play = input(\"Do you want to play? (yes/no)\")\n",
        "while play == 'yes':\n",
        "\n",
        "  p1 = input(\"rock, paper, scissors: \")\n",
        "  p2 = input(\"rock, paper, scissors:\")\n",
        "\n",
        "\n",
        "  if p1 == 'rock' and p2 == 'scissors':\n",
        "    print(\"Player 1 wins\")\n",
        "  elif p1 == 'rock' and p2 == 'paper':\n",
        "    print(\"Player 2 wins\")\n",
        "  elif p1 == 'paper' and p2 == 'rock':\n",
        "    print(\"Player 1 wins\")\n",
        "  elif p1 == 'paper' and p2 == 'scissors':\n",
        "    print(\"Player 2 wins\")\n",
        "  elif p1 == 'scissors' and p2 == 'rock':\n",
        "    print(\"Player 2 wins\")\n",
        "  elif p1 == 'scissors' and p2 == 'paper':\n",
        "    print(\"Player 1 wins\")\n",
        "  else:\n",
        "    print(\"Tie\")\n",
        "  play = input(\"Do you want to play? (yes/no)\")\n"
      ],
      "metadata": {
        "colab": {
          "base_uri": "https://localhost:8080/"
        },
        "id": "-M89KCLGy2Nd",
        "outputId": "d5bbd3c3-1065-4c97-faf6-b3bac41d0f6e"
      },
      "execution_count": 13,
      "outputs": [
        {
          "name": "stdout",
          "output_type": "stream",
          "text": [
            "Do you want to play? (yes/no)yes\n",
            "rock, paper, scissors: rock\n",
            "rock, paper, scissors:scissors\n",
            "Player 1 wins\n",
            "Do you want to play? (yes/no)yes\n",
            "rock, paper, scissors: scissors\n",
            "rock, paper, scissors:scissors\n",
            "Tie\n",
            "Do you want to play? (yes/no)yes\n",
            "rock, paper, scissors: paper\n",
            "rock, paper, scissors:scissors\n",
            "Player 2 wins\n",
            "Do you want to play? (yes/no)no\n"
          ]
        }
      ]
    },
    {
      "cell_type": "code",
      "source": [
        "import random\n",
        "play = input(\"Do you want to play? (yes/no)\")\n",
        "while play == 'yes':\n",
        "\n",
        "  p1 = input(\"rock, paper, scissors: \")\n",
        "  p2 = random.choice(['rock', 'paper', 'scissors'])\n",
        "\n",
        "\n",
        "  if p1 == 'rock' and p2 == 'scissors':\n",
        "    print(\"Player wins\")\n",
        "  elif p1 == 'rock' and p2 == 'paper':\n",
        "    print(\"Computer wins\")\n",
        "  elif p1 == 'paper' and p2 == 'rock':\n",
        "    print(\"Player wins\")\n",
        "  elif p1 == 'paper' and p2 == 'scissors':\n",
        "    print(\"Computer wins\")\n",
        "  elif p1 == 'scissors' and p2 == 'rock':\n",
        "    print(\"Computer wins\")\n",
        "  elif p1 == 'scissors' and p2 == 'paper':\n",
        "    print(\"Player wins\")\n",
        "  else:\n",
        "    print(\"Tie\")\n",
        "  play = input(\"Do you want to play? (yes/no)\")\n",
        "print('Have a nice day!')"
      ],
      "metadata": {
        "colab": {
          "base_uri": "https://localhost:8080/"
        },
        "id": "ZqhbZP6M0eJt",
        "outputId": "094b232d-8228-4cd1-b8d3-6f405236fd2f"
      },
      "execution_count": 18,
      "outputs": [
        {
          "output_type": "stream",
          "name": "stdout",
          "text": [
            "Do you want to play? (yes/no)yes\n",
            "rock, paper, scissors: rock\n",
            "Player wins\n",
            "Do you want to play? (yes/no)yes\n",
            "rock, paper, scissors: scissors\n",
            "Tie\n",
            "Do you want to play? (yes/no)no\n",
            "Have a nice day!\n"
          ]
        }
      ]
    }
  ]
}